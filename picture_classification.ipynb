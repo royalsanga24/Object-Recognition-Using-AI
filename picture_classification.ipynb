{
 "cells": [
  {
   "cell_type": "code",
   "execution_count": 1,
   "id": "21a1a7f9",
   "metadata": {},
   "outputs": [
    {
     "name": "stdout",
     "output_type": "stream",
     "text": [
      "Python Platform: macOS-13.1-arm64-arm-64bit\n",
      "Tensor Flow Version: 2.9.0\n",
      "\n",
      "Python 3.10.9 | packaged by conda-forge | (main, Feb  2 2023, 20:26:08) [Clang 14.0.6 ]\n",
      "Pandas 1.5.3\n",
      "Scikit-Learn 1.2.1\n",
      "GPU is available\n"
     ]
    }
   ],
   "source": [
    "import sys\n",
    "\n",
    "import pandas as pd\n",
    "import sklearn as sk\n",
    "import tensorflow as tf\n",
    "from tensorflow import keras\n",
    "import platform\n",
    "\n",
    "print(f\"Python Platform: {platform.platform()}\")\n",
    "print(f\"Tensor Flow Version: {tf.__version__}\")\n",
    "# print(f\"Keras Version: {tensorflow.keras.__version__}\")\n",
    "print()\n",
    "print(f\"Python {sys.version}\")\n",
    "print(f\"Pandas {pd.__version__}\")\n",
    "print(f\"Scikit-Learn {sk.__version__}\")\n",
    "gpu = len(tf.config.list_physical_devices('GPU'))>0\n",
    "print(\"GPU is\", \"available\" if gpu else \"NOT AVAILABLE\")"
   ]
  },
  {
   "cell_type": "code",
   "execution_count": 2,
   "id": "190c6bdf",
   "metadata": {},
   "outputs": [],
   "source": [
    "import numpy as np"
   ]
  },
  {
   "cell_type": "code",
   "execution_count": 3,
   "id": "126dac9b",
   "metadata": {},
   "outputs": [],
   "source": [
    "import matplotlib.pyplot as plt"
   ]
  },
  {
   "cell_type": "code",
   "execution_count": 4,
   "id": "cb042e28",
   "metadata": {},
   "outputs": [],
   "source": [
    "(X_train, y_train), (X_test, y_test) = tf.keras.datasets.cifar10.load_data()"
   ]
  },
  {
   "cell_type": "code",
   "execution_count": 5,
   "id": "365c3ab3",
   "metadata": {},
   "outputs": [
    {
     "data": {
      "text/plain": [
       "array([[6],\n",
       "       [9],\n",
       "       [9],\n",
       "       [4],\n",
       "       [1]], dtype=uint8)"
      ]
     },
     "execution_count": 5,
     "metadata": {},
     "output_type": "execute_result"
    }
   ],
   "source": [
    "y_train[:5]"
   ]
  },
  {
   "cell_type": "code",
   "execution_count": 6,
   "id": "a6860208",
   "metadata": {},
   "outputs": [],
   "source": [
    "X_train_scaled = X_train/255\n",
    "X_test_scaled = X_test/255"
   ]
  },
  {
   "cell_type": "code",
   "execution_count": 7,
   "id": "af356dd2",
   "metadata": {
    "scrolled": true
   },
   "outputs": [
    {
     "data": {
      "text/plain": [
       "array([[0.23137255, 0.24313725, 0.24705882],\n",
       "       [0.16862745, 0.18039216, 0.17647059],\n",
       "       [0.19607843, 0.18823529, 0.16862745],\n",
       "       [0.26666667, 0.21176471, 0.16470588],\n",
       "       [0.38431373, 0.28627451, 0.20392157],\n",
       "       [0.46666667, 0.35686275, 0.24705882],\n",
       "       [0.54509804, 0.41960784, 0.29411765],\n",
       "       [0.56862745, 0.43137255, 0.31372549],\n",
       "       [0.58431373, 0.45882353, 0.34901961],\n",
       "       [0.58431373, 0.47058824, 0.36470588],\n",
       "       [0.51372549, 0.40392157, 0.30196078],\n",
       "       [0.49019608, 0.38823529, 0.29803922],\n",
       "       [0.55686275, 0.45098039, 0.35686275],\n",
       "       [0.56470588, 0.43921569, 0.3372549 ],\n",
       "       [0.5372549 , 0.41176471, 0.30980392],\n",
       "       [0.50588235, 0.38039216, 0.27843137],\n",
       "       [0.5372549 , 0.41568627, 0.30980392],\n",
       "       [0.5254902 , 0.41568627, 0.29803922],\n",
       "       [0.48627451, 0.38039216, 0.25098039],\n",
       "       [0.54509804, 0.44313725, 0.30588235],\n",
       "       [0.54509804, 0.43921569, 0.29411765],\n",
       "       [0.52156863, 0.41176471, 0.27058824],\n",
       "       [0.53333333, 0.41176471, 0.29019608],\n",
       "       [0.54509804, 0.42352941, 0.30196078],\n",
       "       [0.59607843, 0.47058824, 0.34901961],\n",
       "       [0.63921569, 0.51372549, 0.39215686],\n",
       "       [0.65882353, 0.53333333, 0.42352941],\n",
       "       [0.62352941, 0.50588235, 0.4       ],\n",
       "       [0.61960784, 0.50980392, 0.40784314],\n",
       "       [0.61960784, 0.51764706, 0.42352941],\n",
       "       [0.59607843, 0.49019608, 0.4       ],\n",
       "       [0.58039216, 0.48627451, 0.40392157]])"
      ]
     },
     "execution_count": 7,
     "metadata": {},
     "output_type": "execute_result"
    }
   ],
   "source": [
    "X_train_scaled[0][0]"
   ]
  },
  {
   "cell_type": "code",
   "execution_count": 8,
   "id": "9c92275e",
   "metadata": {},
   "outputs": [],
   "source": [
    "y_train_categorical = tf.keras.utils.to_categorical(y_train, num_classes=10, dtype='float32')"
   ]
  },
  {
   "cell_type": "code",
   "execution_count": 9,
   "id": "c31fba7a",
   "metadata": {},
   "outputs": [],
   "source": [
    "y_test_categorical = tf.keras.utils.to_categorical(y_test, num_classes=10, dtype='float32')"
   ]
  },
  {
   "cell_type": "code",
   "execution_count": 10,
   "id": "0b5458d2",
   "metadata": {},
   "outputs": [
    {
     "name": "stdout",
     "output_type": "stream",
     "text": [
      "Metal device set to: Apple M1\n"
     ]
    },
    {
     "name": "stderr",
     "output_type": "stream",
     "text": [
      "2023-02-17 19:41:27.427411: I tensorflow/core/common_runtime/pluggable_device/pluggable_device_factory.cc:305] Could not identify NUMA node of platform GPU ID 0, defaulting to 0. Your kernel may not have been built with NUMA support.\n",
      "2023-02-17 19:41:27.429836: I tensorflow/core/common_runtime/pluggable_device/pluggable_device_factory.cc:271] Created TensorFlow device (/job:localhost/replica:0/task:0/device:GPU:0 with 0 MB memory) -> physical PluggableDevice (device: 0, name: METAL, pci bus id: <undefined>)\n"
     ]
    }
   ],
   "source": [
    "model = keras.Sequential([tf.keras.layers.Flatten(input_shape=(32,32,3)),\n",
    "              tf.keras.layers.Dense(3000, activation='relu'),\n",
    "              tf.keras.layers.Dense(1000, activation='relu'),\n",
    "              tf.keras.layers.Dense(10, activation='sigmoid')\n",
    "             ])\n",
    "model.compile(optimizer='SGD',\n",
    "                 loss='categorical_crossentropy',\n",
    "                 metrics=['accuracy'])"
   ]
  },
  {
   "cell_type": "code",
   "execution_count": 11,
   "id": "3383dd07",
   "metadata": {},
   "outputs": [
    {
     "name": "stdout",
     "output_type": "stream",
     "text": [
      "Epoch 1/100\n"
     ]
    },
    {
     "name": "stderr",
     "output_type": "stream",
     "text": [
      "2023-02-17 19:41:27.825821: W tensorflow/core/platform/profile_utils/cpu_utils.cc:128] Failed to get CPU frequency: 0 Hz\n",
      "2023-02-17 19:41:27.985089: I tensorflow/core/grappler/optimizers/custom_graph_optimizer_registry.cc:113] Plugin optimizer for device_type GPU is enabled.\n"
     ]
    },
    {
     "name": "stdout",
     "output_type": "stream",
     "text": [
      "313/313 [==============================] - 3s 10ms/step - loss: 1.9959 - accuracy: 0.2792\n",
      "Epoch 2/100\n",
      "313/313 [==============================] - 3s 10ms/step - loss: 1.8142 - accuracy: 0.3613\n",
      "Epoch 3/100\n",
      "313/313 [==============================] - 3s 10ms/step - loss: 1.7256 - accuracy: 0.3919\n",
      "Epoch 4/100\n",
      "313/313 [==============================] - 3s 10ms/step - loss: 1.6615 - accuracy: 0.4197\n",
      "Epoch 5/100\n",
      "313/313 [==============================] - 3s 10ms/step - loss: 1.6106 - accuracy: 0.4382\n",
      "Epoch 6/100\n",
      "313/313 [==============================] - 3s 10ms/step - loss: 1.5689 - accuracy: 0.4509\n",
      "Epoch 7/100\n",
      "313/313 [==============================] - 3s 10ms/step - loss: 1.5362 - accuracy: 0.4628\n",
      "Epoch 8/100\n",
      "313/313 [==============================] - 3s 10ms/step - loss: 1.5015 - accuracy: 0.4739\n",
      "Epoch 9/100\n",
      "313/313 [==============================] - 3s 10ms/step - loss: 1.4728 - accuracy: 0.4844\n",
      "Epoch 10/100\n",
      "313/313 [==============================] - 3s 10ms/step - loss: 1.4359 - accuracy: 0.4981\n",
      "Epoch 11/100\n",
      "313/313 [==============================] - 3s 10ms/step - loss: 1.4117 - accuracy: 0.5086\n",
      "Epoch 12/100\n",
      "313/313 [==============================] - 3s 10ms/step - loss: 1.3821 - accuracy: 0.5188\n",
      "Epoch 13/100\n",
      "313/313 [==============================] - 3s 10ms/step - loss: 1.3603 - accuracy: 0.5273\n",
      "Epoch 14/100\n",
      "313/313 [==============================] - 3s 10ms/step - loss: 1.3319 - accuracy: 0.5369\n",
      "Epoch 15/100\n",
      "313/313 [==============================] - 3s 10ms/step - loss: 1.3047 - accuracy: 0.5467\n",
      "Epoch 16/100\n",
      "313/313 [==============================] - 3s 10ms/step - loss: 1.2748 - accuracy: 0.5590\n",
      "Epoch 17/100\n",
      "313/313 [==============================] - 3s 10ms/step - loss: 1.2525 - accuracy: 0.5692\n",
      "Epoch 18/100\n",
      "313/313 [==============================] - 3s 10ms/step - loss: 1.2283 - accuracy: 0.5784\n",
      "Epoch 19/100\n",
      "313/313 [==============================] - 3s 10ms/step - loss: 1.2038 - accuracy: 0.5795\n",
      "Epoch 20/100\n",
      "313/313 [==============================] - 3s 10ms/step - loss: 1.1852 - accuracy: 0.5959\n",
      "Epoch 21/100\n",
      "313/313 [==============================] - 3s 10ms/step - loss: 1.1576 - accuracy: 0.5992\n",
      "Epoch 22/100\n",
      "313/313 [==============================] - 3s 10ms/step - loss: 1.1294 - accuracy: 0.6117\n",
      "Epoch 23/100\n",
      "313/313 [==============================] - 3s 10ms/step - loss: 1.1061 - accuracy: 0.6237\n",
      "Epoch 24/100\n",
      "313/313 [==============================] - 3s 10ms/step - loss: 1.0870 - accuracy: 0.6288\n",
      "Epoch 25/100\n",
      "313/313 [==============================] - 3s 10ms/step - loss: 1.0660 - accuracy: 0.6356\n",
      "Epoch 26/100\n",
      "313/313 [==============================] - 3s 10ms/step - loss: 1.0349 - accuracy: 0.6542\n",
      "Epoch 27/100\n",
      "313/313 [==============================] - 3s 10ms/step - loss: 1.0110 - accuracy: 0.6529\n",
      "Epoch 28/100\n",
      "313/313 [==============================] - 3s 10ms/step - loss: 0.9956 - accuracy: 0.6617\n",
      "Epoch 29/100\n",
      "313/313 [==============================] - 3s 10ms/step - loss: 0.9612 - accuracy: 0.6782\n",
      "Epoch 30/100\n",
      "313/313 [==============================] - 3s 10ms/step - loss: 0.9589 - accuracy: 0.6750\n",
      "Epoch 31/100\n",
      "313/313 [==============================] - 3s 10ms/step - loss: 0.9182 - accuracy: 0.6929\n",
      "Epoch 32/100\n",
      "313/313 [==============================] - 3s 10ms/step - loss: 0.9006 - accuracy: 0.6980\n",
      "Epoch 33/100\n",
      "313/313 [==============================] - 3s 11ms/step - loss: 0.8754 - accuracy: 0.7070\n",
      "Epoch 34/100\n",
      "313/313 [==============================] - 3s 10ms/step - loss: 0.8539 - accuracy: 0.7192\n",
      "Epoch 35/100\n",
      "313/313 [==============================] - 3s 11ms/step - loss: 0.8288 - accuracy: 0.7220\n",
      "Epoch 36/100\n",
      "313/313 [==============================] - 3s 11ms/step - loss: 0.8137 - accuracy: 0.7336\n",
      "Epoch 37/100\n",
      "313/313 [==============================] - 3s 10ms/step - loss: 0.7859 - accuracy: 0.7432\n",
      "Epoch 38/100\n",
      "313/313 [==============================] - 3s 10ms/step - loss: 0.7681 - accuracy: 0.7453\n",
      "Epoch 39/100\n",
      "313/313 [==============================] - 3s 11ms/step - loss: 0.7506 - accuracy: 0.7548\n",
      "Epoch 40/100\n",
      "313/313 [==============================] - 3s 11ms/step - loss: 0.7272 - accuracy: 0.7689\n",
      "Epoch 41/100\n",
      "313/313 [==============================] - 3s 11ms/step - loss: 0.7005 - accuracy: 0.7748\n",
      "Epoch 42/100\n",
      "313/313 [==============================] - 3s 10ms/step - loss: 0.6829 - accuracy: 0.7821\n",
      "Epoch 43/100\n",
      "313/313 [==============================] - 3s 10ms/step - loss: 0.6597 - accuracy: 0.7890\n",
      "Epoch 44/100\n",
      "313/313 [==============================] - 3s 10ms/step - loss: 0.6408 - accuracy: 0.7958\n",
      "Epoch 45/100\n",
      "313/313 [==============================] - 3s 10ms/step - loss: 0.6136 - accuracy: 0.8081\n",
      "Epoch 46/100\n",
      "313/313 [==============================] - 3s 10ms/step - loss: 0.6071 - accuracy: 0.8071\n",
      "Epoch 47/100\n",
      "313/313 [==============================] - 3s 10ms/step - loss: 0.5765 - accuracy: 0.8228\n",
      "Epoch 48/100\n",
      "313/313 [==============================] - 3s 10ms/step - loss: 0.5667 - accuracy: 0.8241\n",
      "Epoch 49/100\n",
      "313/313 [==============================] - 3s 11ms/step - loss: 0.5448 - accuracy: 0.8321\n",
      "Epoch 50/100\n",
      "313/313 [==============================] - 3s 10ms/step - loss: 0.5191 - accuracy: 0.8383\n",
      "Epoch 51/100\n",
      "313/313 [==============================] - 3s 10ms/step - loss: 0.5064 - accuracy: 0.8450\n",
      "Epoch 52/100\n",
      "313/313 [==============================] - 3s 10ms/step - loss: 0.4941 - accuracy: 0.8484\n",
      "Epoch 53/100\n",
      "313/313 [==============================] - 3s 10ms/step - loss: 0.4688 - accuracy: 0.8617\n",
      "Epoch 54/100\n",
      "313/313 [==============================] - 3s 11ms/step - loss: 0.4596 - accuracy: 0.8656\n",
      "Epoch 55/100\n",
      "313/313 [==============================] - 3s 10ms/step - loss: 0.4407 - accuracy: 0.8717\n",
      "Epoch 56/100\n",
      "313/313 [==============================] - 3s 10ms/step - loss: 0.4299 - accuracy: 0.8781\n",
      "Epoch 57/100\n",
      "313/313 [==============================] - 3s 10ms/step - loss: 0.4065 - accuracy: 0.8863\n",
      "Epoch 58/100\n",
      "313/313 [==============================] - 3s 10ms/step - loss: 0.4015 - accuracy: 0.8857\n",
      "Epoch 59/100\n",
      "313/313 [==============================] - 3s 10ms/step - loss: 0.3812 - accuracy: 0.8932\n",
      "Epoch 60/100\n",
      "313/313 [==============================] - 3s 10ms/step - loss: 0.3715 - accuracy: 0.8959\n",
      "Epoch 61/100\n",
      "313/313 [==============================] - 3s 10ms/step - loss: 0.3412 - accuracy: 0.9044\n",
      "Epoch 62/100\n",
      "313/313 [==============================] - 3s 10ms/step - loss: 0.3393 - accuracy: 0.9114\n",
      "Epoch 63/100\n",
      "313/313 [==============================] - 3s 10ms/step - loss: 0.3226 - accuracy: 0.9120\n",
      "Epoch 64/100\n",
      "313/313 [==============================] - 3s 10ms/step - loss: 0.3076 - accuracy: 0.9186\n",
      "Epoch 65/100\n",
      "313/313 [==============================] - 3s 10ms/step - loss: 0.3007 - accuracy: 0.9195\n",
      "Epoch 66/100\n",
      "313/313 [==============================] - 3s 10ms/step - loss: 0.2690 - accuracy: 0.9313\n",
      "Epoch 67/100\n",
      "313/313 [==============================] - 3s 10ms/step - loss: 0.2664 - accuracy: 0.9345\n",
      "Epoch 68/100\n",
      "313/313 [==============================] - 3s 10ms/step - loss: 0.2649 - accuracy: 0.9351\n",
      "Epoch 69/100\n",
      "313/313 [==============================] - 3s 10ms/step - loss: 0.2425 - accuracy: 0.9415\n",
      "Epoch 70/100\n",
      "313/313 [==============================] - 3s 10ms/step - loss: 0.2273 - accuracy: 0.9469\n",
      "Epoch 71/100\n",
      "313/313 [==============================] - 3s 10ms/step - loss: 0.2208 - accuracy: 0.9467\n",
      "Epoch 72/100\n",
      "313/313 [==============================] - 3s 10ms/step - loss: 0.2271 - accuracy: 0.9474\n",
      "Epoch 73/100\n",
      "313/313 [==============================] - 3s 11ms/step - loss: 0.2020 - accuracy: 0.9536\n",
      "Epoch 74/100\n",
      "313/313 [==============================] - 3s 11ms/step - loss: 0.1870 - accuracy: 0.9587\n",
      "Epoch 75/100\n",
      "313/313 [==============================] - 3s 11ms/step - loss: 0.1832 - accuracy: 0.9588\n",
      "Epoch 76/100\n",
      "313/313 [==============================] - 3s 11ms/step - loss: 0.1756 - accuracy: 0.9628\n",
      "Epoch 77/100\n",
      "313/313 [==============================] - 3s 11ms/step - loss: 0.2503 - accuracy: 0.9461\n",
      "Epoch 78/100\n",
      "313/313 [==============================] - 3s 10ms/step - loss: 0.1807 - accuracy: 0.9617\n",
      "Epoch 79/100\n",
      "313/313 [==============================] - 3s 11ms/step - loss: 0.1482 - accuracy: 0.9701\n",
      "Epoch 80/100\n"
     ]
    },
    {
     "name": "stdout",
     "output_type": "stream",
     "text": [
      "313/313 [==============================] - 3s 10ms/step - loss: 0.1539 - accuracy: 0.9690\n",
      "Epoch 81/100\n",
      "313/313 [==============================] - 3s 10ms/step - loss: 0.1365 - accuracy: 0.9723\n",
      "Epoch 82/100\n",
      "313/313 [==============================] - 3s 10ms/step - loss: 0.1321 - accuracy: 0.9742\n",
      "Epoch 83/100\n",
      "313/313 [==============================] - 3s 10ms/step - loss: 0.1359 - accuracy: 0.9711\n",
      "Epoch 84/100\n",
      "313/313 [==============================] - 3s 10ms/step - loss: 0.1268 - accuracy: 0.9757\n",
      "Epoch 85/100\n",
      "313/313 [==============================] - 3s 10ms/step - loss: 0.1258 - accuracy: 0.9764\n",
      "Epoch 86/100\n",
      "313/313 [==============================] - 3s 10ms/step - loss: 0.1084 - accuracy: 0.9804\n",
      "Epoch 87/100\n",
      "313/313 [==============================] - 3s 10ms/step - loss: 0.1002 - accuracy: 0.9834\n",
      "Epoch 88/100\n",
      "313/313 [==============================] - 3s 10ms/step - loss: 0.0992 - accuracy: 0.9838\n",
      "Epoch 89/100\n",
      "313/313 [==============================] - 3s 10ms/step - loss: 0.0906 - accuracy: 0.9857\n",
      "Epoch 90/100\n",
      "313/313 [==============================] - 3s 10ms/step - loss: 0.0793 - accuracy: 0.9887\n",
      "Epoch 91/100\n",
      "313/313 [==============================] - 3s 10ms/step - loss: 0.0911 - accuracy: 0.9840\n",
      "Epoch 92/100\n",
      "313/313 [==============================] - 3s 10ms/step - loss: 0.0846 - accuracy: 0.9861\n",
      "Epoch 93/100\n",
      "313/313 [==============================] - 3s 10ms/step - loss: 0.1166 - accuracy: 0.9779\n",
      "Epoch 94/100\n",
      "313/313 [==============================] - 3s 10ms/step - loss: 0.0835 - accuracy: 0.9869\n",
      "Epoch 95/100\n",
      "313/313 [==============================] - 3s 10ms/step - loss: 0.0886 - accuracy: 0.9852\n",
      "Epoch 96/100\n",
      "313/313 [==============================] - 3s 10ms/step - loss: 0.0715 - accuracy: 0.9887\n",
      "Epoch 97/100\n",
      "313/313 [==============================] - 3s 10ms/step - loss: 0.0701 - accuracy: 0.9895\n",
      "Epoch 98/100\n",
      "313/313 [==============================] - 3s 10ms/step - loss: 0.0627 - accuracy: 0.9920\n",
      "Epoch 99/100\n",
      "313/313 [==============================] - 3s 10ms/step - loss: 0.0732 - accuracy: 0.9886\n",
      "Epoch 100/100\n",
      "313/313 [==============================] - 3s 10ms/step - loss: 0.0672 - accuracy: 0.9897\n",
      "5min 22s ± 0 ns per loop (mean ± std. dev. of 1 run, 1 loop each)\n"
     ]
    }
   ],
   "source": [
    "%%timeit -n1 -r1\n",
    "model.fit(X_test_scaled, y_test_categorical, epochs=100)"
   ]
  },
  {
   "cell_type": "code",
   "execution_count": 12,
   "id": "14752b82",
   "metadata": {},
   "outputs": [],
   "source": [
    "def plot_sample(index):\n",
    "    plt.figure(figsize= (10,1))\n",
    "    plt.imshow(X_test[index])"
   ]
  },
  {
   "cell_type": "code",
   "execution_count": 13,
   "id": "0e94446b",
   "metadata": {},
   "outputs": [],
   "source": [
    "classes = [\"airplane\", \"automobile\", \"bird\", \"cat\", \"deer\", \"dog\", \"frog\", \"horse\", \"ship\", \"truck\"]"
   ]
  },
  {
   "cell_type": "code",
   "execution_count": 14,
   "id": "10441827",
   "metadata": {},
   "outputs": [],
   "source": [
    "def test():\n",
    "    img = int(input(\"Enter Image number between 0-9999:\"))\n",
    "    print(\"Image number\", img, \"is\", classes[np.argmax(model.predict(X_test_scaled)[img])])\n",
    "    print(\"Do you wish to verify? (y/n)\")\n",
    "    if input() == 'y':\n",
    "        plt.imshow(X_test[img])\n",
    "    elif input() == 'n':\n",
    "        return"
   ]
  },
  {
   "cell_type": "code",
   "execution_count": 19,
   "id": "fa0fab1b",
   "metadata": {},
   "outputs": [
    {
     "name": "stdout",
     "output_type": "stream",
     "text": [
      "Enter Image number between 0-9999:9\n",
      "313/313 [==============================] - 2s 5ms/step\n",
      "Image number 9 is automobile\n",
      "Do you wish to verify? (y/n)\n",
      "y\n"
     ]
    },
    {
     "data": {
      "image/png": "[encoded data removed]",
      "text/plain": [
       "<Figure size 640x480 with 1 Axes>"
      ]
     },
     "metadata": {},
     "output_type": "display_data"
    }
   ],
   "source": [
    "test()"
   ]
  },
  {
   "cell_type": "code",
   "execution_count": null,
   "id": "8a0852f5",
   "metadata": {},
   "outputs": [],
   "source": []
  }
 ],
 "metadata": {
  "kernelspec": {
   "display_name": "Python 3.10 (tensorflow)",
   "language": "python",
   "name": "tensorflow"
  },
  "language_info": {
   "codemirror_mode": {
    "name": "ipython",
    "version": 3
   },
   "file_extension": ".py",
   "mimetype": "text/x-python",
   "name": "python",
   "nbconvert_exporter": "python",
   "pygments_lexer": "ipython3",
   "version": "3.10.9"
  }
 },
 "nbformat": 4,
 "nbformat_minor": 5
}
